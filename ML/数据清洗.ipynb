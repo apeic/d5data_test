{
 "cells": [
  {
   "cell_type": "code",
   "execution_count": 1,
   "id": "5aa94dac",
   "metadata": {},
   "outputs": [],
   "source": [
    "import pandas as pd\n",
    "import re\n",
    "import json\n",
    "import time"
   ]
  },
  {
   "cell_type": "code",
   "execution_count": 2,
   "id": "0a452f97",
   "metadata": {},
   "outputs": [],
   "source": [
    "df = pd.read_json(\"hf://datasets/AdaptLLM/finance-tasks/Headline/test.json\")"
   ]
  },
  {
   "cell_type": "code",
   "execution_count": 3,
   "id": "33289bf3",
   "metadata": {},
   "outputs": [],
   "source": [
    "start_time = time.time()\n",
    "\n",
    "data = df['input'].tolist()\n",
    "\n",
    "lines = []\n",
    "for d in data:\n",
    "    lines.extend(d.split('\\n\\n'))\n",
    "\n",
    "res = []\n",
    "for line in lines:\n",
    "    if 'Options' in line:\n",
    "        # 如果句子里有Options,说明句子最后会有选项中的Yes|No, 这并不是要的答案\n",
    "        info = re.search(r'(.*(Yes|No)) (Yes|No)$', line, re.DOTALL)\n",
    "    else:\n",
    "        # 句子里没有Option,默认最后的Yes|No就是答案\n",
    "        info = re.search(r'(.*?)(Yes|No)$', line, re.DOTALL)\n",
    "    if info is not None:\n",
    "        res.append([info.group(1).strip(), info.group(2)])\n",
    "        \n",
    "final_result = []\n",
    "for i, (q, a) in enumerate(res):\n",
    "    one = {\n",
    "        'id': i,\n",
    "        'Question': q,\n",
    "        'Answer': a\n",
    "    }\n",
    "    final_result.append(one)\n",
    "    \n",
    "end_time = time.time()"
   ]
  },
  {
   "cell_type": "code",
   "execution_count": 4,
   "id": "29e5e1c2",
   "metadata": {},
   "outputs": [
    {
     "name": "stdout",
     "output_type": "stream",
     "text": [
      "消耗时间: 3.0944881439208984秒, 提取问答总条数: 102722\n"
     ]
    }
   ],
   "source": [
    "print(f'消耗时间: {end_time - start_time}秒, 提取问答总条数: {len(final_result)}')"
   ]
  },
  {
   "cell_type": "code",
   "execution_count": 5,
   "id": "b0a03510",
   "metadata": {},
   "outputs": [],
   "source": [
    "with open('data.json', 'w') as fp:\n",
    "    json.dump(final_result, fp)"
   ]
  }
 ],
 "metadata": {
  "kernelspec": {
   "display_name": "Python 3 (ipykernel)",
   "language": "python",
   "name": "python3"
  },
  "language_info": {
   "codemirror_mode": {
    "name": "ipython",
    "version": 3
   },
   "file_extension": ".py",
   "mimetype": "text/x-python",
   "name": "python",
   "nbconvert_exporter": "python",
   "pygments_lexer": "ipython3",
   "version": "3.9.12"
  }
 },
 "nbformat": 4,
 "nbformat_minor": 5
}
